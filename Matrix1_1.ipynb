{
  "cells": [
    {
      "cell_type": "markdown",
      "metadata": {
        "id": "view-in-github",
        "colab_type": "text"
      },
      "source": [
        "<a href=\"https://colab.research.google.com/github/frediazumi/python/blob/main/Matrix1_1.ipynb\" target=\"_parent\"><img src=\"https://colab.research.google.com/assets/colab-badge.svg\" alt=\"Open In Colab\"/></a>"
      ]
    },
    {
      "cell_type": "code",
      "source": [
        "n1 = float(input(\"Introduce tu primer número: \") )\n",
        "n2 = float(input(\"Introduce tu segundo número: \") )\n",
        "\n",
        "opcion = 0\n",
        "while True:\n",
        "    \n",
        "    print(\"\"\"\n",
        "    Dime, ¿qué quieres hacer?\n",
        "    \n",
        "    1) Sumar los dos números\n",
        "    2) Restar los dos números\n",
        "    3) Multiplicar los dos números\n",
        "    4) Cambiar los números elegidos\n",
        "    5) Apagar calculadora\n",
        "    \"\"\")\n",
        "    opcion = int(input(\"Elige una opción: \") )     \n",
        "\n",
        "    if opcion == 1:\n",
        "        print(\" \")\n",
        "        print(\"RESULTADO: La suma de\",n1,\"+\",n2,\"es igual a\",n1+n2)\n",
        "    elif opcion == 2:\n",
        "        print(\" \")\n",
        "        print(\"RESULTADO: La resta de\",n1,\"-\",n2,\"es igual a\",n1-n2)\n",
        "    elif opcion == 3:\n",
        "        print(\" \")\n",
        "        print(\"RESULTADO: El producto de\",n1,\"*\",n2,\"es igual a\",n1*n2)\n",
        "    elif opcion == 4:\n",
        "        n1 = float(input(\"Introduce tu primer número: \") )\n",
        "        n2 = float(input(\"Introduce tu segundo número: \") )\n",
        "    elif opcion == 5:\n",
        "        break\n",
        "    else:\n",
        "        print(\"Opción incorrecta\")"
      ],
      "metadata": {
        "id": "T5M6eb8mgp6R"
      },
      "execution_count": null,
      "outputs": []
    },
    {
      "cell_type": "code",
      "source": [
        "print(\"Bienvenido a tu calculadora\")\n",
        "valor1 = float(input(\"Me puedes dar tu primer valor: \"))\n",
        "valor2 = float(input(\"Me puedes dar tu siguiente valor: \"))\n",
        "\n",
        "opcion = 0\n",
        "while True:\n",
        "\n",
        "        print(\"\"\"\n",
        "        Dime, ¿que es lo que quieres hacer?\n",
        "        1) Sumar los dos valores.\n",
        "        2) Rerstar los 2 valores.\n",
        "        3) Multiplicar los 2 valores.\n",
        "        4) Dividir los 2 valores.\n",
        "        5) Potenciar el valor.\n",
        "        6) Cambiar valores elegidos.\n",
        "        7) Apagar la calculadora\n",
        "        \"\"\")\n",
        "        opcion = int(input(\"Elige una opcion: \"))\n",
        "\n",
        "        if opcion == 1:\n",
        "          print(\" \")\n",
        "          print(\"EL Resultado de la Suma es : \" ,valor1 + valor2)\n",
        "        elif opcion == 2:\n",
        "          print(\" \")\n",
        "          print(\"El Resultado de la Resta es: \" ,valor1 - valor2)\n",
        "        elif opcion == 3:\n",
        "          print(\" \")\n",
        "          print(\"El Resultado de la Multiplicacion es: \" ,valor1 * valor2)\n",
        "        elif opcion == 4:\n",
        "          print(\" \")\n",
        "          print(\"El resultado de la divicion es: \" ,valor1 / valor2)\n",
        "        elif opcion == 5:\n",
        "          print(\" \")\n",
        "          print(\"El resultado de la potencia seria\" ,pow(valor1,valor2))\n",
        "        elif opcion == 6:\n",
        "          valor1 = float(input(\"Introduce tu primer número: \") )\n",
        "          valor2 = float(input(\"Introduce tu segundo número: \") )\n",
        "        elif opcion == 7:\n",
        "          break\n",
        "        else:\n",
        "          print(\"Opción incorrecta\")\n",
        "\n"
      ],
      "metadata": {
        "id": "b7VZ17iJj7ra"
      },
      "execution_count": null,
      "outputs": []
    },
    {
      "cell_type": "markdown",
      "source": [
        "cadena"
      ],
      "metadata": {
        "id": "6LwS2pV3mY31"
      }
    },
    {
      "cell_type": "markdown",
      "source": [
        "1"
      ],
      "metadata": {
        "id": "EAa3JqpGtqV0"
      }
    },
    {
      "cell_type": "code",
      "source": [
        "print(\"!Hola Mundo¡\")\n",
        "print(\"!Hola' \\'Mundo¡\")\n",
        "print(\"!Hola Mundo¡, Como estas?\")\n",
        "print(\"!Hola Mundo¡, sacudiendo el polvo\")\n"
      ],
      "metadata": {
        "colab": {
          "base_uri": "https://localhost:8080/"
        },
        "id": "OBp3Cv7ZqyR6",
        "outputId": "f24d7dbf-73c2-43ab-d5ef-61d346fa212e"
      },
      "execution_count": null,
      "outputs": [
        {
          "output_type": "stream",
          "name": "stdout",
          "text": [
            "!Hola Mundo¡\n",
            "!Hola' 'Mundo¡\n",
            "!Hola Mundo¡, Como estas?\n",
            "!Hola Mundo¡, sacudiendo el polvo\n"
          ]
        }
      ]
    },
    {
      "cell_type": "markdown",
      "source": [
        "2"
      ],
      "metadata": {
        "id": "sMGusrCpttT0"
      }
    },
    {
      "cell_type": "code",
      "source": [
        "Palabra = \"!Hola Mundo¡\"  \n",
        "print(Palabra)"
      ],
      "metadata": {
        "colab": {
          "base_uri": "https://localhost:8080/"
        },
        "id": "Hl_3huYltuIl",
        "outputId": "fb0a4675-6f7f-4c01-bbe7-6129540f3fb6"
      },
      "execution_count": null,
      "outputs": [
        {
          "output_type": "stream",
          "name": "stdout",
          "text": [
            "!Hola Mundo¡\n"
          ]
        }
      ]
    },
    {
      "cell_type": "markdown",
      "source": [
        "3"
      ],
      "metadata": {
        "id": "KNP7MjcdvBMY"
      }
    },
    {
      "cell_type": "code",
      "source": [
        "usuario = input(\"Hola usuario¡ \\\n",
        "prodrias escribirme tu nombre \")\n",
        "\n",
        "print(\"Hola \" + usuario + \", en que te puedo ayudar\" )"
      ],
      "metadata": {
        "colab": {
          "base_uri": "https://localhost:8080/"
        },
        "id": "WyGq02Detr58",
        "outputId": "9f394d51-4efc-48a5-b62f-5b79d4e02726"
      },
      "execution_count": null,
      "outputs": [
        {
          "output_type": "stream",
          "name": "stdout",
          "text": [
            "Hola usuario¡ prodrias escribirme tu nombre alf\n",
            "Hola alf, en que te puedo ayudar\n"
          ]
        }
      ]
    },
    {
      "cell_type": "markdown",
      "source": [
        "4"
      ],
      "metadata": {
        "id": "LrfAWlRJ6C2u"
      }
    },
    {
      "cell_type": "code",
      "source": [
        "print((( 3 + 2 )/( 2 * 5 ))**2)\n"
      ],
      "metadata": {
        "id": "LXwHq3I3rEQf",
        "outputId": "31721a8b-8f2b-4fa8-eb8c-ea3b56e5035a",
        "colab": {
          "base_uri": "https://localhost:8080/"
        }
      },
      "execution_count": 29,
      "outputs": [
        {
          "output_type": "stream",
          "name": "stdout",
          "text": [
            "0.25\n"
          ]
        }
      ]
    },
    {
      "cell_type": "markdown",
      "source": [
        "5"
      ],
      "metadata": {
        "id": "2NHIxwfsMp3O"
      }
    },
    {
      "cell_type": "code",
      "source": [
        "horas = float(input(\"cuantas horas trabajaste \")) \n",
        "valor = 50\n",
        "\n",
        "print(\"tu horas trabajadas dan un total de\",horas * valor )\n"
      ],
      "metadata": {
        "id": "7VqmqmZv61ZA"
      },
      "execution_count": null,
      "outputs": []
    },
    {
      "cell_type": "markdown",
      "source": [
        "6"
      ],
      "metadata": {
        "id": "BFbRjXH3P56A"
      }
    },
    {
      "cell_type": "code",
      "source": [
        "n = float(input(\"Que valor le das a n:\"))\n",
        "\n",
        "print(n*(n+1)/2)"
      ],
      "metadata": {
        "colab": {
          "base_uri": "https://localhost:8080/"
        },
        "id": "6fL1rvDCP7tG",
        "outputId": "bab5832a-c273-45e9-d69b-954978933652"
      },
      "execution_count": 54,
      "outputs": [
        {
          "output_type": "stream",
          "name": "stdout",
          "text": [
            "Que valor le das a n:5\n",
            "15.0\n"
          ]
        }
      ]
    }
  ],
  "metadata": {
    "colab": {
      "name": "Matrix1.1.ipynb",
      "provenance": [],
      "collapsed_sections": [],
      "include_colab_link": true
    },
    "kernelspec": {
      "display_name": "Python 3",
      "name": "python3"
    },
    "language_info": {
      "name": "python"
    }
  },
  "nbformat": 4,
  "nbformat_minor": 0
}