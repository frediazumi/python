{
  "cells": [
    {
      "cell_type": "markdown",
      "metadata": {
        "id": "view-in-github",
        "colab_type": "text"
      },
      "source": [
        "<a href=\"https://colab.research.google.com/github/frediazumi/python/blob/main/Copia_de_Matrix1_1.ipynb\" target=\"_parent\"><img src=\"https://colab.research.google.com/assets/colab-badge.svg\" alt=\"Open In Colab\"/></a>"
      ]
    },
    {
      "cell_type": "code",
      "source": [
        "n1 = float(input(\"Introduce tu primer número: \") )\n",
        "n2 = float(input(\"Introduce tu segundo número: \") )\n",
        "\n",
        "opcion = 0\n",
        "while True:\n",
        "    \n",
        "    print(\"\"\"\n",
        "    Dime, ¿qué quieres hacer?\n",
        "    \n",
        "    1) Sumar los dos números\n",
        "    2) Restar los dos números\n",
        "    3) Multiplicar los dos números\n",
        "    4) Cambiar los números elegidos\n",
        "    5) Apagar calculadora\n",
        "    \"\"\")\n",
        "    opcion = int(input(\"Elige una opción: \") )     \n",
        "\n",
        "    if opcion == 1:\n",
        "        print(\" \")\n",
        "        print(\"RESULTADO: La suma de\",n1,\"+\",n2,\"es igual a\",n1+n2)\n",
        "    elif opcion == 2:\n",
        "        print(\" \")\n",
        "        print(\"RESULTADO: La resta de\",n1,\"-\",n2,\"es igual a\",n1-n2)\n",
        "    elif opcion == 3:\n",
        "        print(\" \")\n",
        "        print(\"RESULTADO: El producto de\",n1,\"*\",n2,\"es igual a\",n1*n2)\n",
        "    elif opcion == 4:\n",
        "        n1 = float(input(\"Introduce tu primer número: \") )\n",
        "        n2 = float(input(\"Introduce tu segundo número: \") )\n",
        "    elif opcion == 5:\n",
        "        break\n",
        "    else:\n",
        "        print(\"Opción incorrecta\")"
      ],
      "metadata": {
        "id": "T5M6eb8mgp6R"
      },
      "execution_count": null,
      "outputs": []
    },
    {
      "cell_type": "code",
      "source": [
        "print(\"Bienvenido a tu calculadora\")\n",
        "valor1 = float(input(\"Me puedes dar tu primer valor: \"))\n",
        "valor2 = float(input(\"Me puedes dar tu siguiente valor: \"))\n",
        "\n",
        "opcion = 0\n",
        "while True:\n",
        "\n",
        "        print(\"\"\"\n",
        "        Dime, ¿que es lo que quieres hacer?\n",
        "        1) Sumar los dos valores.\n",
        "        2) Rerstar los 2 valores.\n",
        "        3) Multiplicar los 2 valores.\n",
        "        4) Dividir los 2 valores.\n",
        "        5) Potenciar el valor.\n",
        "        6) Cambiar valores elegidos.\n",
        "        7) Apagar la calculadora\n",
        "        \"\"\")\n",
        "        opcion = int(input(\"Elige una opcion: \"))\n",
        "\n",
        "        if opcion == 1:\n",
        "          print(\" \")\n",
        "          print(\"EL Resultado de la Suma es : \" ,valor1 + valor2)\n",
        "        elif opcion == 2:\n",
        "          print(\" \")\n",
        "          print(\"El Resultado de la Resta es: \" ,valor1 - valor2)\n",
        "        elif opcion == 3:\n",
        "          print(\" \")\n",
        "          print(\"El Resultado de la Multiplicacion es: \" ,valor1 * valor2)\n",
        "        elif opcion == 4:\n",
        "          print(\" \")\n",
        "          print(\"El resultado de la divicion es: \" ,valor1 / valor2)\n",
        "        elif opcion == 5:\n",
        "          print(\" \")\n",
        "          print(\"El resultado de la potencia seria\" ,pow(valor1,valor2))\n",
        "        elif opcion == 6:\n",
        "          valor1 = float(input(\"Introduce tu primer número: \") )\n",
        "          valor2 = float(input(\"Introduce tu segundo número: \") )\n",
        "        elif opcion == 7:\n",
        "          break\n",
        "        else:\n",
        "          print(\"Opción incorrecta\")\n",
        "\n"
      ],
      "metadata": {
        "id": "b7VZ17iJj7ra"
      },
      "execution_count": null,
      "outputs": []
    },
    {
      "cell_type": "markdown",
      "source": [
        "cadena"
      ],
      "metadata": {
        "id": "6LwS2pV3mY31"
      }
    },
    {
      "cell_type": "markdown",
      "source": [
        "1"
      ],
      "metadata": {
        "id": "EAa3JqpGtqV0"
      }
    },
    {
      "cell_type": "code",
      "source": [
        "print(\"!Hola Mundo¡\")\n",
        "print(\"!Hola' \\'Mundo¡\")\n",
        "print(\"!Hola Mundo¡, Como estas?\")\n",
        "print(\"!Hola Mundo¡, sacudiendo el polvo\")\n"
      ],
      "metadata": {
        "colab": {
          "base_uri": "https://localhost:8080/"
        },
        "id": "OBp3Cv7ZqyR6",
        "outputId": "f24d7dbf-73c2-43ab-d5ef-61d346fa212e"
      },
      "execution_count": null,
      "outputs": [
        {
          "output_type": "stream",
          "name": "stdout",
          "text": [
            "!Hola Mundo¡\n",
            "!Hola' 'Mundo¡\n",
            "!Hola Mundo¡, Como estas?\n",
            "!Hola Mundo¡, sacudiendo el polvo\n"
          ]
        }
      ]
    },
    {
      "cell_type": "markdown",
      "source": [
        "2"
      ],
      "metadata": {
        "id": "sMGusrCpttT0"
      }
    },
    {
      "cell_type": "code",
      "source": [
        "Palabra = \"!Hola Mundo¡\"  \n",
        "print(Palabra)"
      ],
      "metadata": {
        "colab": {
          "base_uri": "https://localhost:8080/"
        },
        "id": "Hl_3huYltuIl",
        "outputId": "fb0a4675-6f7f-4c01-bbe7-6129540f3fb6"
      },
      "execution_count": null,
      "outputs": [
        {
          "output_type": "stream",
          "name": "stdout",
          "text": [
            "!Hola Mundo¡\n"
          ]
        }
      ]
    },
    {
      "cell_type": "markdown",
      "source": [
        "3"
      ],
      "metadata": {
        "id": "KNP7MjcdvBMY"
      }
    },
    {
      "cell_type": "code",
      "source": [
        "usuario = input(\"Hola usuario¡ \\\n",
        "prodrias escribirme tu nombre \")\n",
        "\n",
        "print(\"Hola \" + usuario + \", en que te puedo ayudar\" )"
      ],
      "metadata": {
        "colab": {
          "base_uri": "https://localhost:8080/"
        },
        "id": "WyGq02Detr58",
        "outputId": "9f394d51-4efc-48a5-b62f-5b79d4e02726"
      },
      "execution_count": null,
      "outputs": [
        {
          "output_type": "stream",
          "name": "stdout",
          "text": [
            "Hola usuario¡ prodrias escribirme tu nombre alf\n",
            "Hola alf, en que te puedo ayudar\n"
          ]
        }
      ]
    },
    {
      "cell_type": "markdown",
      "source": [
        "4"
      ],
      "metadata": {
        "id": "LrfAWlRJ6C2u"
      }
    },
    {
      "cell_type": "code",
      "source": [
        "print((( 3 + 2 )/( 2 * 5 ))**2)\n"
      ],
      "metadata": {
        "id": "LXwHq3I3rEQf",
        "outputId": "31721a8b-8f2b-4fa8-eb8c-ea3b56e5035a",
        "colab": {
          "base_uri": "https://localhost:8080/"
        }
      },
      "execution_count": null,
      "outputs": [
        {
          "output_type": "stream",
          "name": "stdout",
          "text": [
            "0.25\n"
          ]
        }
      ]
    },
    {
      "cell_type": "markdown",
      "source": [
        "5"
      ],
      "metadata": {
        "id": "2NHIxwfsMp3O"
      }
    },
    {
      "cell_type": "code",
      "source": [
        "horas = float(input(\"cuantas horas trabajaste \")) \n",
        "valor = 50\n",
        "\n",
        "print(\"tu horas trabajadas dan un total de\",horas * valor )\n"
      ],
      "metadata": {
        "id": "7VqmqmZv61ZA"
      },
      "execution_count": null,
      "outputs": []
    },
    {
      "cell_type": "markdown",
      "source": [
        "6"
      ],
      "metadata": {
        "id": "BFbRjXH3P56A"
      }
    },
    {
      "cell_type": "code",
      "source": [
        "n = float(input(\"Que valor le das a n:\"))\n",
        "\n",
        "print(n*(n+1)/2)"
      ],
      "metadata": {
        "colab": {
          "base_uri": "https://localhost:8080/"
        },
        "id": "6fL1rvDCP7tG",
        "outputId": "bab5832a-c273-45e9-d69b-954978933652"
      },
      "execution_count": null,
      "outputs": [
        {
          "output_type": "stream",
          "name": "stdout",
          "text": [
            "Que valor le das a n:5\n",
            "15.0\n"
          ]
        }
      ]
    },
    {
      "cell_type": "markdown",
      "source": [
        "7"
      ],
      "metadata": {
        "id": "VWQHauQ0OllT"
      }
    },
    {
      "cell_type": "code",
      "source": [
        "Estatura = float(input(\"Podrias darme tu estatura en metros: \"))\n",
        "Peso = float(input(\"Prodrias darme tu peso en kilogramos: \"))\n",
        "\n",
        "print(\"Tu indice de masa corporal es\" ,float(round((Peso / Estatura) **2,2)) )\n"
      ],
      "metadata": {
        "colab": {
          "base_uri": "https://localhost:8080/"
        },
        "id": "PULR_P95OnRZ",
        "outputId": "1c542888-c1b2-4b31-c980-157e62f21189"
      },
      "execution_count": 20,
      "outputs": [
        {
          "output_type": "stream",
          "name": "stdout",
          "text": [
            "Podrias darme tu estatura en metros: 1.80\n",
            "Prodrias darme tu peso en kilogramos: 102\n",
            "Tu indice de masa corporal es 3211.11\n"
          ]
        }
      ]
    },
    {
      "cell_type": "markdown",
      "source": [
        "8"
      ],
      "metadata": {
        "id": "jjpntoYcT1hn"
      }
    },
    {
      "cell_type": "code",
      "source": [
        "n = input(\"Calculemos un cociente dame tu primer valor entero:\")\n",
        "m = input(\"Dame tu segundo valor entero: \")\n",
        "\n",
        "print(\" da un cociente \" + str(int(n) // int(m)) + \" y un resto \" + str(int(n) % int(m)))"
      ],
      "metadata": {
        "colab": {
          "base_uri": "https://localhost:8080/"
        },
        "id": "dWzgX1KfT2lx",
        "outputId": "d1fd7d2d-d7db-4e80-f908-5f8279ac2e27"
      },
      "execution_count": 31,
      "outputs": [
        {
          "output_type": "stream",
          "name": "stdout",
          "text": [
            "Calculemos un cociente dame tu primer valor:6\n",
            "Dame tu segundo valor: 4\n",
            " da un cociente 1 y un resto 2\n"
          ]
        }
      ]
    },
    {
      "cell_type": "markdown",
      "source": [
        "9"
      ],
      "metadata": {
        "id": "OhyxNUYtY3v_"
      }
    },
    {
      "cell_type": "code",
      "source": [
        "Cantidad =  float(input(\"Dime que cantidad vas a invertir: \"))\n",
        "Interes = float(input(\"Tasa de interes anual: \"))\n",
        "Años = float(input(\"Cuantos años vas a inverti: \"))\n",
        "\n",
        "print(\"tu capital final es:\" ,str(round(Cantidad * (Interes / 100 + 1) ** Años, 2)))"
      ],
      "metadata": {
        "colab": {
          "base_uri": "https://localhost:8080/"
        },
        "id": "ebF-SNgVY4xc",
        "outputId": "e0c243b5-a901-4bde-8b4e-b02b86bad492"
      },
      "execution_count": 38,
      "outputs": [
        {
          "output_type": "stream",
          "name": "stdout",
          "text": [
            "Dime que cantidad vas a invertir: 5000\n",
            "Tasa de interes anual: 16\n",
            "Cuantos años vas a inverti: 5\n",
            "tu capital final es: 10501.71\n"
          ]
        }
      ]
    },
    {
      "cell_type": "markdown",
      "source": [
        "10"
      ],
      "metadata": {
        "id": "0-W1A3dDc2JN"
      }
    },
    {
      "cell_type": "code",
      "source": [
        "Paya = int(112)\n",
        "Muñe = int(75)\n",
        "\n",
        "Payaso = int(input(\"Cuantos payasos vas a mandar:\"))\n",
        "Muñeca = int(input(\"Cuantas muñecas vas a mandar:\"))\n",
        "\n",
        "peso1 = ( Paya * Payaso ) \n",
        "peso2 = ( Muñe * Muñeca )\n",
        "\n",
        "print(\"total de peso de payasos\", peso1, \"total de peso de las muñecas\" , peso2, \"el peso total del embarque es de\", peso1 + peso2, )"
      ],
      "metadata": {
        "colab": {
          "base_uri": "https://localhost:8080/"
        },
        "id": "kj4mAMioc5ES",
        "outputId": "f905d093-98f7-4c3d-8a92-3f496b9e413a"
      },
      "execution_count": 42,
      "outputs": [
        {
          "output_type": "stream",
          "name": "stdout",
          "text": [
            "Cuantos payasos vas a mandar:10\n",
            "Cuantas muñecas vas a mandar:10\n",
            "total de peso de payasos 1120 total de peso de las muñecas 750 el peso total del embarque es de 1870\n"
          ]
        }
      ]
    },
    {
      "cell_type": "markdown",
      "source": [
        "11"
      ],
      "metadata": {
        "id": "xigJ0yGegtpW"
      }
    },
    {
      "cell_type": "code",
      "source": [
        "inversion = float(input(\"inversión inicial: \"))\n",
        "interes = 0.04\n",
        "balance1 = inversion * (1 + interes)\n",
        "print(\"Balance tras el primer año:\" + str(round(balance1, 2)))\n",
        "balance2 = balance1 * (1 + interes)\n",
        "print(\"Balance tras el segundo año:\" + str(round(balance2, 2)))\n",
        "balance3 = balance2 * (1 + interes)\n",
        "print(\"Balance tras el tercer año:\" + str(round(balance3, 2)))"
      ],
      "metadata": {
        "colab": {
          "base_uri": "https://localhost:8080/"
        },
        "id": "mz4fTOe-gv2h",
        "outputId": "b6d33751-f29a-4dcb-9bf3-37c2938ab4be"
      },
      "execution_count": 43,
      "outputs": [
        {
          "output_type": "stream",
          "name": "stdout",
          "text": [
            "inversión inicial: 100\n",
            "Balance tras el primer año:104.0\n",
            "Balance tras el segundo año:108.16\n",
            "Balance tras el tercer año:112.49\n"
          ]
        }
      ]
    },
    {
      "cell_type": "markdown",
      "source": [
        "12"
      ],
      "metadata": {
        "id": "Lm9GaIK_4RZB"
      }
    },
    {
      "cell_type": "code",
      "source": [
        "Barra = 3.49\n",
        "descuento = .60\n",
        "barras = int(input(\"Cuantas barras de pan vas a llevar: \"))\n",
        "\n",
        "print(\"el costo de una barra del sia es\" ,Barra)\n",
        "print(\"el precio de una barra que no es del dia es\" , Barra * descuento)\n",
        "print(\"el precio total de las barra que te llevas es\" , (barras * Barra) * descuento)"
      ],
      "metadata": {
        "colab": {
          "base_uri": "https://localhost:8080/"
        },
        "id": "FTMI8iCA4TBj",
        "outputId": "ca90a563-74c4-4d54-d136-3041d15fdd5e"
      },
      "execution_count": 97,
      "outputs": [
        {
          "output_type": "stream",
          "name": "stdout",
          "text": [
            "Cuantas barras de pan vas a llevar: 5\n",
            "el costo de una barra del sia es 3.49\n",
            "el precio de una barra que no es del dia es 2.094\n",
            "el precio total de las barra que te llevas es 10.47\n"
          ]
        }
      ]
    }
  ],
  "metadata": {
    "colab": {
      "name": "Copia de Matrix1.1.ipynb",
      "provenance": [],
      "collapsed_sections": [],
      "include_colab_link": true
    },
    "kernelspec": {
      "display_name": "Python 3",
      "name": "python3"
    },
    "language_info": {
      "name": "python"
    }
  },
  "nbformat": 4,
  "nbformat_minor": 0
}